{
 "cells": [
  {
   "cell_type": "code",
   "execution_count": 1,
   "metadata": {},
   "outputs": [],
   "source": [
    "import itertools\n",
    "import joblib\n",
    "\n",
    "import matplotlib.pyplot as plt\n",
    "import numpy as np\n",
    "import pandas as pd\n",
    "from sklearn import ensemble\n",
    "from sklearn import model_selection\n",
    "from sklearn import preprocessing\n",
    "from sklearn import pipeline\n",
    "\n",
    "import poker_coach"
   ]
  },
  {
   "cell_type": "code",
   "execution_count": 2,
   "metadata": {},
   "outputs": [],
   "source": [
    "hero_range = range(0, 101, 1)\n",
    "villain_range = range(0, 101, 1)\n",
    "n_times = 100000"
   ]
  },
  {
   "cell_type": "code",
   "execution_count": 3,
   "metadata": {},
   "outputs": [
    {
     "name": "stderr",
     "output_type": "stream",
     "text": [
      "UsageError: Line magic function `%%time` not found.\n"
     ]
    }
   ],
   "source": [
    "%%time\n",
    "\n",
    "# train = pd.read_csv(r\"poker_coach\\data\\linear_model_train.csv\", index_col=0)\n",
    "# train.head()\n",
    "\n",
    "prod = itertools.product(hero_range, villain_range)\n",
    "\n",
    "train = pd.DataFrame()\n",
    "\n",
    "for h, v in prod:\n",
    "    \n",
    "    # Get hand from ranking.\n",
    "    hero_hand = poker_coach.equity.percentage_descr(h)\n",
    "\n",
    "    # Calculate equity agains villain range.\n",
    "    equity = poker_coach.Scenario.eval_ranges(hero_hand, [v], times=n_times)\n",
    "    \n",
    "    train = train.append({\"Hero\": h, \"Villain\": v, \"Equity\": equity[0]}, ignore_index=True)\n",
    "    \n",
    "train.to_csv(r\"poker_coach\\data\\linear_model_train.csv\")\n",
    "train.head()"
   ]
  },
  {
   "cell_type": "code",
   "execution_count": null,
   "metadata": {},
   "outputs": [],
   "source": [
    "%%time\n",
    "\n",
    "# test = pd.read_csv(r\"poker_coach\\data\\linear_model_test.csv\", index_col=0)\n",
    "# test.head()\n",
    "\n",
    "test_size = 0.25\n",
    "\n",
    "test = pd.DataFrame()\n",
    "for _ in range(int(train.shape[0] * test_size)):\n",
    "    \n",
    "    # Choose randomly hero and villain ranges.\n",
    "    h = np.random.randint(min(hero_range), max(hero_range))\n",
    "    hero_hand = poker_coach.equity.percentage_descr(h)\n",
    "    v = np.random.randint(min(villain_range), max(villain_range))\n",
    "    \n",
    "    # Calculate equity agains villain range.\n",
    "    equity = poker_coach.Scenario.eval_ranges(hero_hand, [v], times=n_times)\n",
    "    \n",
    "    test = test.append({\"Hero\": h, \"Villain\": v, \"Equity\": equity[0]}, ignore_index=True)\n",
    "    \n",
    "test.to_csv(r\"poker_coach\\data\\linear_model_test.csv\")\n",
    "test.head()"
   ]
  },
  {
   "cell_type": "code",
   "execution_count": null,
   "metadata": {},
   "outputs": [],
   "source": [
    "x_train = train[[\"Hero\", \"Villain\"]]\n",
    "y_train = train[[\"Equity\"]]\n",
    "\n",
    "x_test = test[[\"Hero\", \"Villain\"]]\n",
    "y_test = test[[\"Equity\"]]\n",
    "\n",
    "pipe = pipeline.Pipeline(\n",
    "    [\n",
    "        (\"random forest\", ensemble.RandomForestRegressor(100)),\n",
    "    ]\n",
    ")\n",
    "\n",
    "pipe.fit(x_train, y_train.values.ravel())\n",
    "pipe.score(x_test, y_test)"
   ]
  },
  {
   "cell_type": "code",
   "execution_count": null,
   "metadata": {},
   "outputs": [],
   "source": [
    "joblib.dump(pipe, 'model.pkl') "
   ]
  },
  {
   "cell_type": "code",
   "execution_count": null,
   "metadata": {},
   "outputs": [],
   "source": [
    "test[\"Predicted Equity\"] = pipe.predict(x_test)"
   ]
  }
 ],
 "metadata": {
  "kernelspec": {
   "display_name": "Python 3",
   "language": "python",
   "name": "python3"
  },
  "language_info": {
   "codemirror_mode": {
    "name": "ipython",
    "version": 3
   },
   "file_extension": ".py",
   "mimetype": "text/x-python",
   "name": "python",
   "nbconvert_exporter": "python",
   "pygments_lexer": "ipython3",
   "version": "3.7.1"
  }
 },
 "nbformat": 4,
 "nbformat_minor": 4
}
