{
 "cells": [
  {
   "cell_type": "markdown",
   "metadata": {},
   "source": [
    "# Equity Model\n",
    "\n",
    "The goal of this notebook is to develop an equity model for fast inference."
   ]
  },
  {
   "cell_type": "code",
   "execution_count": 1,
   "metadata": {},
   "outputs": [],
   "source": [
    "import itertools\n",
    "import joblib\n",
    "\n",
    "import matplotlib.pyplot as plt\n",
    "import numpy as np\n",
    "import pandas as pd\n",
    "from sklearn import ensemble\n",
    "from sklearn import pipeline\n",
    "\n",
    "import poker_coach"
   ]
  },
  {
   "cell_type": "markdown",
   "metadata": {},
   "source": [
    "# Generate Data\n",
    "\n",
    "Data will be generated using the *Monte Carlo* procedure."
   ]
  },
  {
   "cell_type": "code",
   "execution_count": 2,
   "metadata": {},
   "outputs": [],
   "source": [
    "hero_range = range(0, 101, 1)\n",
    "villain_range = range(0, 101, 1)\n",
    "n_times = 10000"
   ]
  },
  {
   "cell_type": "markdown",
   "metadata": {},
   "source": [
    "## Training Data"
   ]
  },
  {
   "cell_type": "code",
   "execution_count": 3,
   "metadata": {},
   "outputs": [
    {
     "name": "stdout",
     "output_type": "stream",
     "text": [
      "Wall time: 11 ms\n"
     ]
    },
    {
     "data": {
      "text/html": [
       "<div>\n",
       "<style scoped>\n",
       "    .dataframe tbody tr th:only-of-type {\n",
       "        vertical-align: middle;\n",
       "    }\n",
       "\n",
       "    .dataframe tbody tr th {\n",
       "        vertical-align: top;\n",
       "    }\n",
       "\n",
       "    .dataframe thead th {\n",
       "        text-align: right;\n",
       "    }\n",
       "</style>\n",
       "<table border=\"1\" class=\"dataframe\">\n",
       "  <thead>\n",
       "    <tr style=\"text-align: right;\">\n",
       "      <th></th>\n",
       "      <th>Equity</th>\n",
       "      <th>Hero</th>\n",
       "      <th>Villain</th>\n",
       "    </tr>\n",
       "  </thead>\n",
       "  <tbody>\n",
       "    <tr>\n",
       "      <th>0</th>\n",
       "      <td>0.500100</td>\n",
       "      <td>0.0</td>\n",
       "      <td>0.0</td>\n",
       "    </tr>\n",
       "    <tr>\n",
       "      <th>1</th>\n",
       "      <td>0.607975</td>\n",
       "      <td>0.0</td>\n",
       "      <td>1.0</td>\n",
       "    </tr>\n",
       "    <tr>\n",
       "      <th>2</th>\n",
       "      <td>0.699372</td>\n",
       "      <td>0.0</td>\n",
       "      <td>2.0</td>\n",
       "    </tr>\n",
       "    <tr>\n",
       "      <th>3</th>\n",
       "      <td>0.754498</td>\n",
       "      <td>0.0</td>\n",
       "      <td>3.0</td>\n",
       "    </tr>\n",
       "    <tr>\n",
       "      <th>4</th>\n",
       "      <td>0.781247</td>\n",
       "      <td>0.0</td>\n",
       "      <td>4.0</td>\n",
       "    </tr>\n",
       "  </tbody>\n",
       "</table>\n",
       "</div>"
      ],
      "text/plain": [
       "     Equity  Hero  Villain\n",
       "0  0.500100   0.0      0.0\n",
       "1  0.607975   0.0      1.0\n",
       "2  0.699372   0.0      2.0\n",
       "3  0.754498   0.0      3.0\n",
       "4  0.781247   0.0      4.0"
      ]
     },
     "execution_count": 3,
     "metadata": {},
     "output_type": "execute_result"
    }
   ],
   "source": [
    "%%time\n",
    "\n",
    "# train = pd.read_csv(r\"poker_coach\\data\\linear_model_train.csv\", index_col=0)\n",
    "# train.head()\n",
    "\n",
    "prod = itertools.product(hero_range, villain_range)\n",
    "\n",
    "train = pd.DataFrame()\n",
    "\n",
    "for h, v in prod:\n",
    "    \n",
    "    # Get hand from ranking.\n",
    "    hero_hand = poker_coach.equity.percentage_descr(h)\n",
    "\n",
    "    # Calculate equity agains villain range.\n",
    "    equity = poker_coach.Scenario.eval_ranges(hero_hand, [v], times=n_times)\n",
    "    \n",
    "    train = train.append({\"Hero\": h, \"Villain\": v, \"Equity\": equity[0]}, ignore_index=True)\n",
    "    \n",
    "train.to_csv(r\"poker_coach\\data\\linear_model_train.csv\")\n",
    "train.head()"
   ]
  },
  {
   "cell_type": "code",
   "execution_count": 4,
   "metadata": {},
   "outputs": [
    {
     "name": "stdout",
     "output_type": "stream",
     "text": [
      "Wall time: 9.5 ms\n"
     ]
    },
    {
     "data": {
      "text/html": [
       "<div>\n",
       "<style scoped>\n",
       "    .dataframe tbody tr th:only-of-type {\n",
       "        vertical-align: middle;\n",
       "    }\n",
       "\n",
       "    .dataframe tbody tr th {\n",
       "        vertical-align: top;\n",
       "    }\n",
       "\n",
       "    .dataframe thead th {\n",
       "        text-align: right;\n",
       "    }\n",
       "</style>\n",
       "<table border=\"1\" class=\"dataframe\">\n",
       "  <thead>\n",
       "    <tr style=\"text-align: right;\">\n",
       "      <th></th>\n",
       "      <th>Equity</th>\n",
       "      <th>Hero</th>\n",
       "      <th>Villain</th>\n",
       "    </tr>\n",
       "  </thead>\n",
       "  <tbody>\n",
       "    <tr>\n",
       "      <th>0</th>\n",
       "      <td>0.572314</td>\n",
       "      <td>29.0</td>\n",
       "      <td>63.0</td>\n",
       "    </tr>\n",
       "    <tr>\n",
       "      <th>1</th>\n",
       "      <td>0.625985</td>\n",
       "      <td>31.0</td>\n",
       "      <td>84.0</td>\n",
       "    </tr>\n",
       "    <tr>\n",
       "      <th>2</th>\n",
       "      <td>0.474614</td>\n",
       "      <td>59.0</td>\n",
       "      <td>53.0</td>\n",
       "    </tr>\n",
       "    <tr>\n",
       "      <th>3</th>\n",
       "      <td>0.468662</td>\n",
       "      <td>80.0</td>\n",
       "      <td>57.0</td>\n",
       "    </tr>\n",
       "    <tr>\n",
       "      <th>4</th>\n",
       "      <td>0.462949</td>\n",
       "      <td>53.0</td>\n",
       "      <td>41.0</td>\n",
       "    </tr>\n",
       "  </tbody>\n",
       "</table>\n",
       "</div>"
      ],
      "text/plain": [
       "     Equity  Hero  Villain\n",
       "0  0.572314  29.0     63.0\n",
       "1  0.625985  31.0     84.0\n",
       "2  0.474614  59.0     53.0\n",
       "3  0.468662  80.0     57.0\n",
       "4  0.462949  53.0     41.0"
      ]
     },
     "execution_count": 4,
     "metadata": {},
     "output_type": "execute_result"
    }
   ],
   "source": [
    "%%time\n",
    "\n",
    "# test = pd.read_csv(r\"poker_coach\\data\\linear_model_test.csv\", index_col=0)\n",
    "# test.head()\n",
    "\n",
    "test_size = 0.25\n",
    "\n",
    "test = pd.DataFrame()\n",
    "for _ in range(int(train.shape[0] * test_size)):\n",
    "    \n",
    "    # Choose randomly hero and villain ranges.\n",
    "    h = np.random.randint(min(hero_range), max(hero_range))\n",
    "    hero_hand = poker_coach.equity.percentage_descr(h)\n",
    "    v = np.random.randint(min(villain_range), max(villain_range))\n",
    "    \n",
    "    # Calculate equity agains villain range.\n",
    "    equity = poker_coach.Scenario.eval_ranges(hero_hand, [v], times=n_times)\n",
    "    \n",
    "    test = test.append({\"Hero\": h, \"Villain\": v, \"Equity\": equity[0]}, ignore_index=True)\n",
    "    \n",
    "test.to_csv(r\"poker_coach\\data\\linear_model_test.csv\")\n",
    "test.head()"
   ]
  },
  {
   "cell_type": "markdown",
   "metadata": {},
   "source": [
    "## Testing Data"
   ]
  },
  {
   "cell_type": "code",
   "execution_count": 5,
   "metadata": {},
   "outputs": [],
   "source": [
    "x_train = train[[\"Hero\", \"Villain\"]]\n",
    "y_train = train[[\"Equity\"]]\n",
    "\n",
    "x_test = test[[\"Hero\", \"Villain\"]]\n",
    "y_test = test[[\"Equity\"]]"
   ]
  },
  {
   "cell_type": "markdown",
   "metadata": {},
   "source": [
    "# Fit Model"
   ]
  },
  {
   "cell_type": "code",
   "execution_count": 6,
   "metadata": {},
   "outputs": [
    {
     "data": {
      "text/plain": [
       "0.9906839833556287"
      ]
     },
     "execution_count": 6,
     "metadata": {},
     "output_type": "execute_result"
    }
   ],
   "source": [
    "pipe = pipeline.Pipeline(\n",
    "    [\n",
    "        (\"random forest\", ensemble.RandomForestRegressor(\n",
    "            n_estimators=100, \n",
    "            max_depth=8,\n",
    "        )),\n",
    "    ]\n",
    ")\n",
    "\n",
    "pipe.fit(x_train, y_train.values.ravel())\n",
    "pipe.score(x_test, y_test)"
   ]
  },
  {
   "cell_type": "markdown",
   "metadata": {},
   "source": [
    "# Visualize Model Predictions"
   ]
  },
  {
   "cell_type": "code",
   "execution_count": 7,
   "metadata": {},
   "outputs": [
    {
     "data": {
      "text/plain": [
       "<matplotlib.legend.Legend at 0x1ed060867b8>"
      ]
     },
     "execution_count": 7,
     "metadata": {},
     "output_type": "execute_result"
    },
    {
     "data": {
      "image/png": "[encoded data removed]",
      "text/plain": [
       "<Figure size 432x288 with 1 Axes>"
      ]
     },
     "metadata": {
      "needs_background": "light"
     },
     "output_type": "display_data"
    }
   ],
   "source": [
    "train[\"Predicted Equity\"] = pipe.predict(x_train)\n",
    "\n",
    "temp = train[train[\"Hero\"] == np.random.choice(train[\"Hero\"])]\n",
    "\n",
    "plt.plot(temp[\"Equity\"], label=\"Monte Carlo\")\n",
    "plt.plot(temp[\"Predicted Equity\"], label=\"Model\")\n",
    "plt.legend()"
   ]
  },
  {
   "cell_type": "markdown",
   "metadata": {},
   "source": [
    "# Save Model"
   ]
  },
  {
   "cell_type": "code",
   "execution_count": 8,
   "metadata": {},
   "outputs": [
    {
     "data": {
      "text/plain": [
       "['model.pkl']"
      ]
     },
     "execution_count": 8,
     "metadata": {},
     "output_type": "execute_result"
    }
   ],
   "source": [
    "joblib.dump(pipe, 'model.pkl') "
   ]
  }
 ],
 "metadata": {
  "kernelspec": {
   "display_name": "Python 3",
   "language": "python",
   "name": "python3"
  },
  "language_info": {
   "codemirror_mode": {
    "name": "ipython",
    "version": 3
   },
   "file_extension": ".py",
   "mimetype": "text/x-python",
   "name": "python",
   "nbconvert_exporter": "python",
   "pygments_lexer": "ipython3",
   "version": "3.7.1"
  }
 },
 "nbformat": 4,
 "nbformat_minor": 4
}
